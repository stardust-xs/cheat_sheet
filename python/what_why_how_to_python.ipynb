{
 "cells": [
  {
   "cell_type": "markdown",
   "metadata": {},
   "source": [
    "# What, Why and How to Python"
   ]
  },
  {
   "cell_type": "markdown",
   "metadata": {},
   "source": [
    "## What is Python?\n",
    "\n",
    "As per **[Wikipedia](https://en.wikipedia.org/wiki/python_(programming_language))**, \"*Python is an **[interpreted](https://en.wikipedia.org/wiki/Interpreted_language)**, **[high-level](https://en.wikipedia.org/wiki/High-level_programming_language)**, **[general-purpose programming language](https://en.wikipedia.org/wiki/General-purpose_programming_language)**.*\"\n",
    "\n",
    "Well this definition doesn't really help unless you understand every single term in it. So let's break it down into smaller digestable bits.\n",
    "\n",
    "- **Interpreted language**\n",
    "  - Interpreting languages are the one which executes **line by line**. **Scripting** and **[Declarative](https://en.wikipedia.org/wiki/Declarative_programming)** languages are also considered as interpreted languages.\n",
    "  - They **don't [compile](https://en.wikipedia.org/wiki/Compiler)**, they just run (execute) the code.\n",
    "  - Python, **[Ruby](https://en.wikipedia.org/wiki/Ruby_(programming_language))**, **[Javascript](https://en.wikipedia.org/wiki/JavaScript)**, etc are some examples of Interpreting language.\n",
    "\n",
    "- **High-level language**\n",
    "  - A High-level language (HLL) means **human understandable** language.\n",
    "  - They use **common english words** (natural language) to describe their functions (For example: filter, join, import).\n",
    "  - Python, **[C](https://en.wikipedia.org/wiki/C_(programming_language))**, **[C++](https://en.wikipedia.org/wiki/C%2B%2B)**, **[Java](https://en.wikipedia.org/wiki/Java_(programming_language))**, etc are some examples of High-level language.\n",
    "\n",
    "- **General-purpose language**\n",
    "  - General-purpose programming languages are the ones which are used in **wide applications**, across multiple domains and on various platforms in some form or another.\n",
    "  - Python running on a development board like **[Raspberry Pi](https://en.wikipedia.org/wiki/Raspberry_Pi#Software)** is an example of Python's general purpose roots.\n",
    "  - Python, C, C++, **[Go](https://en.wikipedia.org/wiki/Go_(programming_language))**, etc are examples of General-purpose language."
   ]
  },
  {
   "cell_type": "markdown",
   "metadata": {},
   "source": [
    "## Why to use Python\n",
    "\n",
    "- Well why not?\n",
    "  - It's free and **[Open-source](https://en.wikipedia.org/wiki/Open-source_software)**.\n",
    "  - Best way to get started with any programming language is to learn from and contribute to an Open Source community and Python has a massive pool of open-source packages.\n",
    "  - Many industry grade Python based projects/package fall under an open-source umbrella.\n",
    "  - It is **very easy** to learn (but slightly difficult to master).\n",
    "\n",
    "- It practically covers most (if not all) of the **computer science** fundamentals\n",
    "  - Python was built by considering **[Object Oriented Programming](https://en.wikipedia.org/wiki/Object-oriented_programming)** in mind.\n",
    "  - Python is built upon many computer science fundamentals and supports various algorithms (For example: **[Bubble sort](https://en.wikipedia.org/wiki/Bubble_sort)**).\n",
    "  - Python can be also used for building and visualizing some abstracted (no pun intended) concepts like **[Design patterns](https://en.wikipedia.org/wiki/Software_design_pattern)** (For example: Singletons).\n",
    "\n",
    "- It was one of the **mainstream** programming languages of 2020.\n",
    "  - Python has been one of the most **trending** programming languages for couple of years now because of traction it is getting in domains like **[Machine Learning](https://en.wikipedia.org/wiki/Machine_learning)** and **[Artificial Intelligence](https://en.wikipedia.org/wiki/Artificial_intelligence)**.\n",
    "  - Commonly used applications (unlocking phone, filtering messages/mail) have roots in Python.\n",
    "\n",
    "- Wide variety of softwares or tools can be/are built using Python (this is not entirely true).\n",
    "  - Since Python is a general-purpose programming language, it provides frameworks for building applications in another domain (For example: **[Django](https://en.wikipedia.org/wiki/Django_(web_framework))**).\n",
    "  - Instagram being a website (web application) was built on Django. Django is a web development framework built with Python. Pinterest also has a similar back story. But **this is not completely true**, you need to understand that there are a lot of things that goes while creating a basic application (**[Databases](https://en.wikipedia.org/wiki/Database#Database_languages)**, **[GUIs](https://en.wikipedia.org/wiki/Graphical_user_interface)**, **[Web security](https://en.wikipedia.org/wiki/Internet_security)**, etc).\n",
    "  - Python does provide frameworks or a wrapper for each of these actions but its **not perfect**.\n",
    "\n",
    "- It is the best programming language for **automating tasks**.\n",
    "  - You can literally automate each of your activities/tasks using Python (assuming you're interested in doing some hardcore research).\n",
    "  - Python is **officially supported** on mainstream platforms like Windows, Mac and Linux. This support enables patches for triggering or fetching system related tasks/informations.\n",
    "\n",
    "- It is used by many tech-giants like Google, Facebook, NASA, etc.\n",
    "  - Google and Facebook are **infamous** for their **[AIs](https://en.wikipedia.org/wiki/Google_AI)**. Their AI is backed by many programming frameworks and Python is one of them.\n",
    "  - **[Google Brain](https://en.wikipedia.org/wiki/Google_Brain)**'s **[TensorFlow](https://github.com/tensorflow/tensorflow)** is one of **best deep learning frameworks** in the industry.\n",
    "  - Facebook backed **[PyTorch](https://github.com/pytorch/pytorch)** is an another deep learning framework which is **very simple** to learn and follow along.\n",
    "  - Both are built on/for Python (along with dependencies with C++ and **[Cython](https://en.wikipedia.org/wiki/Cython)**."
   ]
  },
  {
   "cell_type": "markdown",
   "metadata": {},
   "source": [
    "## How to get started with Python\n",
    "\n",
    "These are some ways by which you can install or try out Python all by yourselves. I've ranked them by their ease of use and comfort.\n",
    "\n",
    "**Disclaimer:** These rankings are based on my opinion for a **beginner**, yours may vary.\n",
    "\n",
    "- Best & most recommended way of installing Python is by a simple search on **[YouTube](https://www.youtube.com/watch?v=wp15jyylSEQ)**.\n",
    "  - This method will ensure you have Python up and running on your machine **locally**.\n",
    "  - If you face any issues while installing Python on your machine, you can try with other videos.\n",
    "\n",
    "- Using a **[Colab Notebook](https://colab.research.google.com/notebooks/intro.ipynb)** on **Google Colab** (Best & quickest way to get familiar with Cloud).\n",
    "  - This method requires you to have a valid Google account. All you need is to visit the above URL and click on **New Notebook**.\n",
    "  - This method obviously requires internet connection and doesn't work with relative local paths (files and folders on computer).\n",
    "  - The notebook or rather the entire session is deleted by Google after every **12** hours.\n",
    "  - But this method is quickest way to get started for newbies.\n",
    "\n",
    "- Naive way!\n",
    "  - The most naive way to get started with Python is to visit **[Python](https://www.python.org/downloads/)**'s website. This is also probably the most reliable way.\n",
    "  - This will provide you with vanilla Python **Shell** and an **IDLE** (editor for writing Python code).\n",
    "  - Most of the YouTube tutorials will explain this method. Python's installation is fast, easy and free.\n",
    "  - This methods provides you complete freedom on how you can configure Python to suit your needs.\n",
    "  - You'll also probably need a dedicated IDE or a fancy editor. I suggest you use **[Visual Studio Code](https://code.visualstudio.com/)**.\n",
    "  \n",
    "- Using a **[Jupyter Notebook](https://www.youtube.com/watch?v=o6aOqkmrrb4)** (Best way for beginners).\n",
    "\n",
    "- Using a distribution like **[Anaconda](https://www.anaconda.com/products/individual)**.\n",
    "  - If you want to have no fuss during the installation then go for this method.\n",
    "  - Anaconda is **too much** for a new Python developer.\n",
    "  - But Anaconda wraps a lot of cool packages (including the final one) by default which are catered towards Machine Learning or **[Data Science](https://en.wikipedia.org/wiki/Data_science)** roles."
   ]
  }
 ],
 "metadata": {
  "kernelspec": {
   "display_name": "Python 3",
   "language": "python",
   "name": "python3"
  },
  "language_info": {
   "codemirror_mode": {
    "name": "ipython",
    "version": 3
   },
   "file_extension": ".py",
   "mimetype": "text/x-python",
   "name": "python",
   "nbconvert_exporter": "python",
   "pygments_lexer": "ipython3",
   "version": "3.8.5"
  }
 },
 "nbformat": 4,
 "nbformat_minor": 4
}
