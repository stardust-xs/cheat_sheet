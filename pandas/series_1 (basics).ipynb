{
 "cells": [
  {
   "cell_type": "markdown",
   "metadata": {},
   "source": [
    "# Chapter I: Series Cheat Sheet\n",
    "## 1: What is a Pandas Series?\n",
    "A Pandas series object is a 1-D labelled array. In very simple terms it's a single column; having it's own **name** (header), **index** (row labels), etc. You can think it like as a python list on steroids! Pandas series or Series object in general stores data in a sequential order just like a list in a single column.\n",
    "### Things to remember\n",
    "A series should ideally be consistent, meaning it should have elements of single datatype. This is **not** mandatory but it surely helps with optimization of the code. If the series object has multiple datatypes, pandas will consider the type of entire series as 'object' (string). If the series object has a consistent (single) datatype, pandas consider the type of entire series to be the type of individual element (check the below examples).\n",
    "#### Series with multiple datatypes\n",
    "In the below example we have created a list called as **test_list** which holds 4 elements each with different datatypes. But if you see the type of pandas series object you'll notice that pandas considers the datatype as **object** (internal pandas lingo for **string**)"
   ]
  },
  {
   "cell_type": "code",
   "execution_count": 26,
   "metadata": {},
   "outputs": [
    {
     "data": {
      "text/plain": [
       "list"
      ]
     },
     "execution_count": 26,
     "metadata": {},
     "output_type": "execute_result"
    }
   ],
   "source": [
    "test_list = ['one', 2, 3.0, ['this', 'is', 'a', 'test']]\n",
    "\n",
    "type(test_list)"
   ]
  },
  {
   "cell_type": "code",
   "execution_count": 30,
   "metadata": {},
   "outputs": [
    {
     "data": {
      "text/plain": [
       "0                    one\n",
       "1                      2\n",
       "2                      3\n",
       "3    [this, is, a, test]\n",
       "dtype: object"
      ]
     },
     "execution_count": 30,
     "metadata": {},
     "output_type": "execute_result"
    }
   ],
   "source": [
    "import pandas as pd\n",
    "\n",
    "pd.Series(test_list)"
   ]
  },
  {
   "cell_type": "code",
   "execution_count": 29,
   "metadata": {},
   "outputs": [
    {
     "data": {
      "text/plain": [
       "pandas.core.series.Series"
      ]
     },
     "execution_count": 29,
     "metadata": {},
     "output_type": "execute_result"
    }
   ],
   "source": [
    "type(pd.Series(test_list))"
   ]
  },
  {
   "cell_type": "markdown",
   "metadata": {},
   "source": [
    "#### Series with single datatype\n",
    "In the below example we have created the same **test_list** but now it holds 4 elements with single datatype, **integer**. Pandas series will now consider the datatype of the entire series object as **int64** (internal pandas lingo for **integer**)."
   ]
  },
  {
   "cell_type": "code",
   "execution_count": 31,
   "metadata": {},
   "outputs": [
    {
     "data": {
      "text/plain": [
       "list"
      ]
     },
     "execution_count": 31,
     "metadata": {},
     "output_type": "execute_result"
    }
   ],
   "source": [
    "test_list = [1, 2, 3, 4]\n",
    "\n",
    "type(test_list)"
   ]
  },
  {
   "cell_type": "code",
   "execution_count": 32,
   "metadata": {},
   "outputs": [
    {
     "data": {
      "text/plain": [
       "0    1\n",
       "1    2\n",
       "2    3\n",
       "3    4\n",
       "dtype: int64"
      ]
     },
     "execution_count": 32,
     "metadata": {},
     "output_type": "execute_result"
    }
   ],
   "source": [
    "import pandas as pd\n",
    "\n",
    "pd.Series(test_list)"
   ]
  },
  {
   "cell_type": "code",
   "execution_count": 33,
   "metadata": {},
   "outputs": [
    {
     "data": {
      "text/plain": [
       "pandas.core.series.Series"
      ]
     },
     "execution_count": 33,
     "metadata": {},
     "output_type": "execute_result"
    }
   ],
   "source": [
    "type(pd.Series(test_list))"
   ]
  },
  {
   "cell_type": "markdown",
   "metadata": {},
   "source": [
    "### Series object\n",
    "A pandas series method looks something like this:<br>\n",
    "pd.Series(**data**=None, **index**=None, **dtype**=None, **name**=None, **copy**=False, **fastpath**=False)\n",
    "\n",
    "***Important parameters:***<br>\n",
    "**data:** list, array-like object or dictionary.<br>\n",
    "**index:** list of indices.<br>\n",
    "**dtype:** datatype of the output series and <br>\n",
    "**name:** header (name) of the series."
   ]
  },
  {
   "cell_type": "markdown",
   "metadata": {},
   "source": [
    "## 2. How to create a Pandas series object?\n",
    "Series object can be created using either a list/array-like object or a dictionary.\n",
    "### Creating a Pandas series with list/array-like object\n",
    "Its simple. Just pass the list to the **Series** constructor method."
   ]
  },
  {
   "cell_type": "code",
   "execution_count": 44,
   "metadata": {},
   "outputs": [
    {
     "data": {
      "text/plain": [
       "0              astroboy\n",
       "1                bender\n",
       "2               cupcake\n",
       "3              doughnut\n",
       "4                éclair\n",
       "5                 froyo\n",
       "6           gingerbread\n",
       "7             honeycomb\n",
       "8     icecream sandwich\n",
       "9             jellybean\n",
       "10               kitkat\n",
       "11             lollipop\n",
       "12          marshmallow\n",
       "13               nougat\n",
       "14                 oreo\n",
       "15                  pie\n",
       "dtype: object"
      ]
     },
     "execution_count": 44,
     "metadata": {},
     "output_type": "execute_result"
    }
   ],
   "source": [
    "import pandas as pd\n",
    "\n",
    "android_version_names = ['astroboy', 'bender', 'cupcake', 'doughnut', 'éclair', 'froyo',\n",
    "                         'gingerbread', 'honeycomb', 'icecream sandwich', 'jellybean',\n",
    "                         'kitkat', 'lollipop', 'marshmallow', 'nougat', 'oreo', 'pie']\n",
    "\n",
    "pd.Series(android_version_names)"
   ]
  },
  {
   "cell_type": "code",
   "execution_count": 39,
   "metadata": {},
   "outputs": [
    {
     "data": {
      "text/plain": [
       "pandas.core.series.Series"
      ]
     },
     "execution_count": 39,
     "metadata": {},
     "output_type": "execute_result"
    }
   ],
   "source": [
    "type(pd.Series(android_version_names))"
   ]
  },
  {
   "cell_type": "markdown",
   "metadata": {},
   "source": [
    "You will notice the numbers starting from 0 at left, these are called index (indices). Pandas automatically adds them if you don't intend to use your own indices.\n",
    "### Creating a Pandas series with a list/array-like object and with our own indices\n",
    "This will create a Pandas series object using index that we pass seperately. This is done by passing another list (own list of indices) to the **index** parameter.\n",
    "pd.Series(data=None, **index=None**, ...)\n",
    "#### Note:\n",
    "Number of indices should be equal to the number of elements in the series (list)."
   ]
  },
  {
   "cell_type": "code",
   "execution_count": 45,
   "metadata": {},
   "outputs": [
    {
     "data": {
      "text/plain": [
       "1.0             astroboy\n",
       "1.1               bender\n",
       "1.5              cupcake\n",
       "1.6             doughnut\n",
       "2.0               éclair\n",
       "2.2                froyo\n",
       "2.3          gingerbread\n",
       "3.0            honeycomb\n",
       "4.0    icecream sandwich\n",
       "4.1            jellybean\n",
       "4.4               kitkat\n",
       "5.0             lollipop\n",
       "6.0          marshmallow\n",
       "7.0               nougat\n",
       "8.0                 oreo\n",
       "9.0                  pie\n",
       "dtype: object"
      ]
     },
     "execution_count": 45,
     "metadata": {},
     "output_type": "execute_result"
    }
   ],
   "source": [
    "android_version_names = ['astroboy', 'bender', 'cupcake', 'doughnut', 'éclair', 'froyo',\n",
    "                         'gingerbread', 'honeycomb', 'icecream sandwich', 'jellybean',\n",
    "                         'kitkat', 'lollipop', 'marshmallow', 'nougat', 'oreo', 'pie']\n",
    "\n",
    "android_versions = [1.0, 1.1, 1.5, 1.6, 2.0, 2.2, 2.3, 3.0, 4.0, 4.1, 4.4, 5.0, 6.0, 7.0, 8.0, 9.0]\n",
    "\n",
    "pd.Series(data=android_version_names, index=android_versions)"
   ]
  },
  {
   "cell_type": "code",
   "execution_count": 41,
   "metadata": {},
   "outputs": [
    {
     "data": {
      "text/plain": [
       "pandas.core.series.Series"
      ]
     },
     "execution_count": 41,
     "metadata": {},
     "output_type": "execute_result"
    }
   ],
   "source": [
    "type(pd.Series(data=android_version_names, index=android_versions))"
   ]
  },
  {
   "cell_type": "markdown",
   "metadata": {},
   "source": [
    "### Creating a Pandas series with a dictionary\n",
    "A python dictionary consists an unordered collection of key-value pairs. So, here the keys become the index and the values remain the values in the series object. You don't need to pass seperate list for index.\n",
    "#### Note:\n",
    "For python 3.6 and above the order of dictionary is maintained.<br>\n",
    "If indices are passed, it'll overwrite the values and replace them with **NaN** which means Not a Number (None/Null/Missing) values."
   ]
  },
  {
   "cell_type": "code",
   "execution_count": 46,
   "metadata": {},
   "outputs": [
    {
     "data": {
      "text/plain": [
       "a             astroboy\n",
       "b               bender\n",
       "c              cupcake\n",
       "d                donut\n",
       "e               eclair\n",
       "f                froyo\n",
       "g          gingerbread\n",
       "h            honeycomb\n",
       "i    icecream sandwich\n",
       "j            jellybean\n",
       "k               kitkat\n",
       "l             lollipop\n",
       "m          marshmallow\n",
       "n               Nougat\n",
       "o                 oreo\n",
       "p                  pie\n",
       "dtype: object"
      ]
     },
     "execution_count": 46,
     "metadata": {},
     "output_type": "execute_result"
    }
   ],
   "source": [
    "android_version_dict = {\n",
    "    'a': 'astroboy',\n",
    "    'b': 'bender',\n",
    "    'c': 'cupcake',\n",
    "    'd': 'donut',\n",
    "    'e': 'eclair',\n",
    "    'f': 'froyo',\n",
    "    'g': 'gingerbread',\n",
    "    'h': 'honeycomb',\n",
    "    'i': 'icecream sandwich',\n",
    "    'j': 'jellybean',\n",
    "    'k': 'kitkat',\n",
    "    'l': 'lollipop',\n",
    "    'm': 'marshmallow',\n",
    "    'n': 'Nougat',\n",
    "    'o': 'oreo',\n",
    "    'p': 'pie',\n",
    "}\n",
    "\n",
    "pd.Series(data=android_version_dict) # without index"
   ]
  },
  {
   "cell_type": "code",
   "execution_count": 53,
   "metadata": {},
   "outputs": [
    {
     "data": {
      "text/plain": [
       "1.0    NaN\n",
       "1.1    NaN\n",
       "1.5    NaN\n",
       "1.6    NaN\n",
       "2.0    NaN\n",
       "2.2    NaN\n",
       "2.3    NaN\n",
       "3.0    NaN\n",
       "4.0    NaN\n",
       "4.1    NaN\n",
       "4.4    NaN\n",
       "5.0    NaN\n",
       "6.0    NaN\n",
       "7.0    NaN\n",
       "8.0    NaN\n",
       "9.0    NaN\n",
       "dtype: object"
      ]
     },
     "execution_count": 53,
     "metadata": {},
     "output_type": "execute_result"
    }
   ],
   "source": [
    "pd.Series(data=android_version_dict, index=android_versions) # with index"
   ]
  },
  {
   "cell_type": "markdown",
   "metadata": {},
   "source": [
    "## 3. How to name the Series object OR How to add header to the Series object?\n",
    "This name is similar to the **Header** or **Column name** in Excel. This is done by passing string (name) to the **name** parameter.<br>\n",
    "pd.Series(data=None, index=None, **name=None** ...)"
   ]
  },
  {
   "cell_type": "code",
   "execution_count": 52,
   "metadata": {},
   "outputs": [
    {
     "data": {
      "text/plain": [
       "1.0             astroboy\n",
       "1.1               bender\n",
       "1.5              cupcake\n",
       "1.6             doughnut\n",
       "2.0               éclair\n",
       "2.2                froyo\n",
       "2.3          gingerbread\n",
       "3.0            honeycomb\n",
       "4.0    icecream sandwich\n",
       "4.1            jellybean\n",
       "4.4               kitkat\n",
       "5.0             lollipop\n",
       "6.0          marshmallow\n",
       "7.0               nougat\n",
       "8.0                 oreo\n",
       "9.0                  pie\n",
       "Name: Android Versions, dtype: object"
      ]
     },
     "execution_count": 52,
     "metadata": {},
     "output_type": "execute_result"
    }
   ],
   "source": [
    "pd.Series(data=android_version_names, index=android_versions, name='Android Versions')"
   ]
  }
 ],
 "metadata": {
  "kernelspec": {
   "display_name": "Python 3",
   "language": "python",
   "name": "python3"
  },
  "language_info": {
   "codemirror_mode": {
    "name": "ipython",
    "version": 3
   },
   "file_extension": ".py",
   "mimetype": "text/x-python",
   "name": "python",
   "nbconvert_exporter": "python",
   "pygments_lexer": "ipython3",
   "version": "3.7.5"
  }
 },
 "nbformat": 4,
 "nbformat_minor": 2
}
