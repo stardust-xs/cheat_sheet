{
 "cells": [
  {
   "cell_type": "markdown",
   "metadata": {},
   "source": [
    "# Chapter 2: Dataframe Cheat Sheet\n",
    "## 1: What is a Pandas Dataframe?\n",
    "A Pandas dataframe is one of the most famous object/type in Pandas and in field of Datascience. Unlike series, dataframe is a 2-D object. It's closest resemblance is to a table; having rows (horizontal) and columns (vertical) of data. You can think of it like an Excel worksheet or a database table."
   ]
  },
  {
   "cell_type": "code",
   "execution_count": null,
   "metadata": {},
   "outputs": [],
   "source": []
  }
 ],
 "metadata": {
  "kernelspec": {
   "display_name": "Python 3",
   "language": "python",
   "name": "python3"
  },
  "language_info": {
   "codemirror_mode": {
    "name": "ipython",
    "version": 3
   },
   "file_extension": ".py",
   "mimetype": "text/x-python",
   "name": "python",
   "nbconvert_exporter": "python",
   "pygments_lexer": "ipython3",
   "version": "3.7.5"
  }
 },
 "nbformat": 4,
 "nbformat_minor": 2
}
