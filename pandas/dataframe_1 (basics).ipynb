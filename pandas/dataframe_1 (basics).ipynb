{
 "cells": [
  {
   "cell_type": "markdown",
   "metadata": {},
   "source": [
    "# Chapter 2: Dataframe Cheat Sheet\n",
    "## 1: What is a Pandas Dataframe?\n",
    "A Pandas dataframe is one of the most famous object/type in Pandas and in field of Datascience. Unlike series, dataframe is a 2-D object. It's closest resemblance is to a table; having rows (horizontal) and columns (vertical) of data. You can think of it like an Excel worksheet or a database table.\n",
    "\n",
    "### Things to remember\n",
    "1. Dataframe: Main pandas object; including rows & columns (pandas.core.frame.DataFrame).\n",
    "2. Series: Only a single column from the dataframe (pandas.core.series.Series).\n",
    "3. NaN: Null value/Blank cell (in Excel)/None value (in Python).\n",
    "4. All numerical values in a series (pandas column) of a pandas dataframe are floating point numbers (float values) **if the column (series) has any NaN (null) values in it**. If you try to open the same file in excel, you'll it in its original form."
   ]
  },
  {
   "cell_type": "code",
   "execution_count": 7,
   "metadata": {},
   "outputs": [],
   "source": []
  }
 ],
 "metadata": {
  "kernelspec": {
   "display_name": "Python 3",
   "language": "python",
   "name": "python3"
  },
  "language_info": {
   "codemirror_mode": {
    "name": "ipython",
    "version": 3
   },
   "file_extension": ".py",
   "mimetype": "text/x-python",
   "name": "python",
   "nbconvert_exporter": "python",
   "pygments_lexer": "ipython3",
   "version": "3.7.5"
  }
 },
 "nbformat": 4,
 "nbformat_minor": 2
}
