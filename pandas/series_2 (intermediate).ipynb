{
 "cells": [
  {
   "cell_type": "markdown",
   "metadata": {},
   "source": [
    "## 4. Some basic yet important attributes of Pandas Series\n",
    "These are some of the most commonly used attributes while working with series object. There are lot more, but it is not possible to cover all of them. Just in case you get confuse between attributes and methods, remember that methods have **()** at the end but attributes don't.\n",
    "\n",
    "You can find all Series attributes [here](https://pandas.pydata.org/pandas-docs/stable/reference/api/pandas.Series.html). Note that few of them are deprecated."
   ]
  },
  {
   "cell_type": "code",
   "execution_count": 16,
   "metadata": {},
   "outputs": [
    {
     "data": {
      "text/plain": [
       "1.0                astro\n",
       "1.1                boxer\n",
       "1.5              cupcake\n",
       "1.6             doughnut\n",
       "2.0               éclair\n",
       "2.2                froyo\n",
       "2.3          gingerbread\n",
       "3.0            honeycomb\n",
       "4.0    icecream sandwich\n",
       "4.1            jellybean\n",
       "4.4               kitkat\n",
       "5.0             lollipop\n",
       "6.0          marshmallow\n",
       "7.0               nougat\n",
       "8.0                 oreo\n",
       "9.0                  pie\n",
       "Name: Android Versions, dtype: object"
      ]
     },
     "execution_count": 16,
     "metadata": {},
     "output_type": "execute_result"
    }
   ],
   "source": [
    "import pandas as pd\n",
    "\n",
    "android_version_names = ['astro', 'boxer', 'cupcake', 'doughnut', 'éclair', 'froyo',\n",
    "                         'gingerbread', 'honeycomb', 'icecream sandwich', 'jellybean',\n",
    "                         'kitkat', 'lollipop', 'marshmallow', 'nougat', 'oreo', 'pie']\n",
    "\n",
    "android_versions = [1.0, 1.1, 1.5, 1.6, 2.0, 2.2, 2.3, 3.0, 4.0, 4.1, 4.4, 5.0, 6.0, 7.0, 8.0, 9.0]\n",
    "\n",
    "android = pd.Series(data=android_version_names, index=android_versions, name='Android Versions') \n",
    "# You can assign series object to a variable.\n",
    "\n",
    "android"
   ]
  },
  {
   "cell_type": "markdown",
   "metadata": {},
   "source": [
    "### Name attribute\n",
    "Returns name/header of the Series."
   ]
  },
  {
   "cell_type": "code",
   "execution_count": 18,
   "metadata": {},
   "outputs": [
    {
     "data": {
      "text/plain": [
       "'Android Versions'"
      ]
     },
     "execution_count": 18,
     "metadata": {},
     "output_type": "execute_result"
    }
   ],
   "source": [
    "android.name"
   ]
  },
  {
   "cell_type": "markdown",
   "metadata": {},
   "source": [
    "#### Note:\n",
    "You can change the name/header by overwritting it."
   ]
  },
  {
   "cell_type": "code",
   "execution_count": 20,
   "metadata": {
    "scrolled": true
   },
   "outputs": [
    {
     "data": {
      "text/plain": [
       "1.0                astro\n",
       "1.1                boxer\n",
       "1.5              cupcake\n",
       "1.6             doughnut\n",
       "2.0               éclair\n",
       "2.2                froyo\n",
       "2.3          gingerbread\n",
       "3.0            honeycomb\n",
       "4.0    icecream sandwich\n",
       "4.1            jellybean\n",
       "4.4               kitkat\n",
       "5.0             lollipop\n",
       "6.0          marshmallow\n",
       "7.0               nougat\n",
       "8.0                 oreo\n",
       "9.0                  pie\n",
       "Name: Versions name for Android OS, dtype: object"
      ]
     },
     "execution_count": 20,
     "metadata": {},
     "output_type": "execute_result"
    }
   ],
   "source": [
    "android.name = 'Versions name for Android OS'\n",
    "\n",
    "android"
   ]
  },
  {
   "cell_type": "markdown",
   "metadata": {},
   "source": [
    "### Index attribute\n",
    "Returns list of index in the Series. Index is name of the row.\n",
    "#### Note:\n",
    "If the index is integer, then it will return **RangeIndex** object and if the anything besides integer it will return respective **Index** object."
   ]
  },
  {
   "cell_type": "code",
   "execution_count": 21,
   "metadata": {},
   "outputs": [
    {
     "data": {
      "text/plain": [
       "Float64Index([1.0, 1.1, 1.5, 1.6, 2.0, 2.2, 2.3, 3.0, 4.0, 4.1, 4.4, 5.0, 6.0,\n",
       "              7.0, 8.0, 9.0],\n",
       "             dtype='float64')"
      ]
     },
     "execution_count": 21,
     "metadata": {},
     "output_type": "execute_result"
    }
   ],
   "source": [
    "android.index # Index not an integer"
   ]
  },
  {
   "cell_type": "code",
   "execution_count": 22,
   "metadata": {},
   "outputs": [
    {
     "data": {
      "text/plain": [
       "0                 astro\n",
       "1                 boxer\n",
       "2               cupcake\n",
       "3              doughnut\n",
       "4                éclair\n",
       "5                 froyo\n",
       "6           gingerbread\n",
       "7             honeycomb\n",
       "8     icecream sandwich\n",
       "9             jellybean\n",
       "10               kitkat\n",
       "11             lollipop\n",
       "12          marshmallow\n",
       "13               nougat\n",
       "14                 oreo\n",
       "15                  pie\n",
       "dtype: object"
      ]
     },
     "execution_count": 22,
     "metadata": {},
     "output_type": "execute_result"
    }
   ],
   "source": [
    "android = pd.Series(data=android_version_names)\n",
    "\n",
    "android"
   ]
  },
  {
   "cell_type": "code",
   "execution_count": 23,
   "metadata": {},
   "outputs": [
    {
     "data": {
      "text/plain": [
       "RangeIndex(start=0, stop=16, step=1)"
      ]
     },
     "execution_count": 23,
     "metadata": {},
     "output_type": "execute_result"
    }
   ],
   "source": [
    "android.index"
   ]
  },
  {
   "cell_type": "markdown",
   "metadata": {},
   "source": [
    "### Values attribute\n",
    "Returns list of all values in the Series."
   ]
  },
  {
   "cell_type": "code",
   "execution_count": 17,
   "metadata": {},
   "outputs": [
    {
     "data": {
      "text/plain": [
       "array(['astro', 'boxer', 'cupcake', 'doughnut', 'éclair', 'froyo',\n",
       "       'gingerbread', 'honeycomb', 'icecream sandwich', 'jellybean',\n",
       "       'kitkat', 'lollipop', 'marshmallow', 'nougat', 'oreo', 'pie'],\n",
       "      dtype=object)"
      ]
     },
     "execution_count": 17,
     "metadata": {},
     "output_type": "execute_result"
    }
   ],
   "source": [
    "android.values"
   ]
  },
  {
   "cell_type": "markdown",
   "metadata": {},
   "source": [
    "### Dtype attribute\n",
    "Returns the datatype of the pandas series."
   ]
  },
  {
   "cell_type": "code",
   "execution_count": 24,
   "metadata": {},
   "outputs": [
    {
     "data": {
      "text/plain": [
       "dtype('O')"
      ]
     },
     "execution_count": 24,
     "metadata": {},
     "output_type": "execute_result"
    }
   ],
   "source": [
    "android.dtype # O = object (string)"
   ]
  },
  {
   "cell_type": "markdown",
   "metadata": {},
   "source": [
    "### Is_Unique attribute\n",
    "Returns boolean values. If the series has all unique values i.e no duplicates, it returns **True**."
   ]
  },
  {
   "cell_type": "code",
   "execution_count": 25,
   "metadata": {},
   "outputs": [
    {
     "data": {
      "text/plain": [
       "True"
      ]
     },
     "execution_count": 25,
     "metadata": {},
     "output_type": "execute_result"
    }
   ],
   "source": [
    "android.is_unique"
   ]
  },
  {
   "cell_type": "markdown",
   "metadata": {},
   "source": [
    "### NDim attribute\n",
    "Returns the number of dimension, in this case just 1 as series is 1D object."
   ]
  },
  {
   "cell_type": "code",
   "execution_count": 33,
   "metadata": {},
   "outputs": [
    {
     "data": {
      "text/plain": [
       "1"
      ]
     },
     "execution_count": 33,
     "metadata": {},
     "output_type": "execute_result"
    }
   ],
   "source": [
    "android.ndim"
   ]
  },
  {
   "cell_type": "markdown",
   "metadata": {},
   "source": [
    "### Shape attributes\n",
    "Returns a tuple of number of rows and number of columns. This is like (m, n) from matrices, where **m** is the number of rows and **n** is the number of columns. \n",
    "\n",
    "As you can see it returns the tuple but it just returns the number of rows but leaves column section blank. Since a series has just a single column Pandas assumes the column value to be 1 but doesn't renders it and leaves it blank."
   ]
  },
  {
   "cell_type": "code",
   "execution_count": 37,
   "metadata": {},
   "outputs": [
    {
     "data": {
      "text/plain": [
       "(16,)"
      ]
     },
     "execution_count": 37,
     "metadata": {},
     "output_type": "execute_result"
    }
   ],
   "source": [
    "android.shape"
   ]
  },
  {
   "cell_type": "markdown",
   "metadata": {},
   "source": [
    "### Size attribute\n",
    "Returns the total number of elements in the underlying data. Similar to (m x n) operation."
   ]
  },
  {
   "cell_type": "code",
   "execution_count": 38,
   "metadata": {},
   "outputs": [
    {
     "data": {
      "text/plain": [
       "16"
      ]
     },
     "execution_count": 38,
     "metadata": {},
     "output_type": "execute_result"
    }
   ],
   "source": [
    "android.size # 16 x 1 = 16"
   ]
  },
  {
   "cell_type": "markdown",
   "metadata": {},
   "source": [
    "### How to access value/s from the Series using attributes\n",
    "Unlike other attributes these take input in square brackets **[]**. These attributes treat a pandas series list a traditional python list."
   ]
  },
  {
   "cell_type": "code",
   "execution_count": 78,
   "metadata": {},
   "outputs": [
    {
     "data": {
      "text/plain": [
       "1.0                astro\n",
       "1.1                boxer\n",
       "1.5              cupcake\n",
       "1.6             doughnut\n",
       "2.0               éclair\n",
       "2.2                froyo\n",
       "2.3          gingerbread\n",
       "3.0            honeycomb\n",
       "4.0    icecream sandwich\n",
       "4.1            jellybean\n",
       "4.4               kitkat\n",
       "5.0             lollipop\n",
       "6.0          marshmallow\n",
       "7.0               nougat\n",
       "8.0                 oreo\n",
       "9.0                  pie\n",
       "Name: Android Versions, dtype: object"
      ]
     },
     "execution_count": 78,
     "metadata": {},
     "output_type": "execute_result"
    }
   ],
   "source": [
    "android_version_names = ['astro', 'boxer', 'cupcake', 'doughnut', 'éclair', 'froyo',\n",
    "                         'gingerbread', 'honeycomb', 'icecream sandwich', 'jellybean',\n",
    "                         'kitkat', 'lollipop', 'marshmallow', 'nougat', 'oreo', 'pie']\n",
    "\n",
    "android_versions = [1.0, 1.1, 1.5, 1.6, 2.0, 2.2, 2.3, 3.0, 4.0, 4.1, 4.4, 5.0, 6.0, 7.0, 8.0, 9.0]\n",
    "\n",
    "android = pd.Series(data=android_version_names, index=android_versions, name='Android Versions') \n",
    "\n",
    "android"
   ]
  },
  {
   "cell_type": "markdown",
   "metadata": {},
   "source": [
    "#### Using \"at\" attribute\n",
    "This take the index name as its input."
   ]
  },
  {
   "cell_type": "code",
   "execution_count": 73,
   "metadata": {},
   "outputs": [
    {
     "data": {
      "text/plain": [
       "'kitkat'"
      ]
     },
     "execution_count": 73,
     "metadata": {},
     "output_type": "execute_result"
    }
   ],
   "source": [
    "android.at[4.4] # Returns value for that partiular index"
   ]
  },
  {
   "cell_type": "markdown",
   "metadata": {},
   "source": [
    "#### Using \"iat\" attribute\n",
    "This take the index number as its input. "
   ]
  },
  {
   "cell_type": "code",
   "execution_count": 77,
   "metadata": {},
   "outputs": [
    {
     "data": {
      "text/plain": [
       "'kitkat'"
      ]
     },
     "execution_count": 77,
     "metadata": {},
     "output_type": "execute_result"
    }
   ],
   "source": [
    "android.iat[10] # Returns the value at 11th position (Index starts from 0)"
   ]
  },
  {
   "cell_type": "markdown",
   "metadata": {},
   "source": [
    "#### Using \"loc\" attribute (locate using index name)\n",
    "This takes the index name as its input similar to \"at\" attribute."
   ]
  },
  {
   "cell_type": "code",
   "execution_count": 97,
   "metadata": {},
   "outputs": [
    {
     "data": {
      "text/plain": [
       "'froyo'"
      ]
     },
     "execution_count": 97,
     "metadata": {},
     "output_type": "execute_result"
    }
   ],
   "source": [
    "android.loc[2.2] # Returns value based on index name (Index name in this case is a float value)"
   ]
  },
  {
   "cell_type": "markdown",
   "metadata": {},
   "source": [
    "#### Using \"iloc\" attribute\n",
    "This takes the index number as its input similar to \"iat\" attribute."
   ]
  },
  {
   "cell_type": "code",
   "execution_count": 87,
   "metadata": {},
   "outputs": [
    {
     "data": {
      "text/plain": [
       "'froyo'"
      ]
     },
     "execution_count": 87,
     "metadata": {},
     "output_type": "execute_result"
    }
   ],
   "source": [
    "android.iloc[5]"
   ]
  },
  {
   "cell_type": "markdown",
   "metadata": {},
   "source": [
    "### Using \"ix\" attribute (locate using either index name or value)\n",
    "#### But this deprecated now. But works just fine.\n",
    "This can take either index name or index value as its input."
   ]
  },
  {
   "cell_type": "code",
   "execution_count": 95,
   "metadata": {
    "scrolled": true
   },
   "outputs": [
    {
     "name": "stderr",
     "output_type": "stream",
     "text": [
      "d:\\xa\\cheat_sheet\\venv\\lib\\site-packages\\ipykernel_launcher.py:1: FutureWarning: \n",
      ".ix is deprecated. Please use\n",
      ".loc for label based indexing or\n",
      ".iloc for positional indexing\n",
      "\n",
      "See the documentation here:\n",
      "http://pandas.pydata.org/pandas-docs/stable/user_guide/indexing.html#ix-indexer-is-deprecated\n",
      "  \"\"\"Entry point for launching an IPython kernel.\n"
     ]
    },
    {
     "data": {
      "text/plain": [
       "'astro'"
      ]
     },
     "execution_count": 95,
     "metadata": {},
     "output_type": "execute_result"
    }
   ],
   "source": [
    "android.ix[1] # Returns value using index"
   ]
  },
  {
   "cell_type": "code",
   "execution_count": 96,
   "metadata": {},
   "outputs": [
    {
     "name": "stderr",
     "output_type": "stream",
     "text": [
      "d:\\xa\\cheat_sheet\\venv\\lib\\site-packages\\ipykernel_launcher.py:1: FutureWarning: \n",
      ".ix is deprecated. Please use\n",
      ".loc for label based indexing or\n",
      ".iloc for positional indexing\n",
      "\n",
      "See the documentation here:\n",
      "http://pandas.pydata.org/pandas-docs/stable/user_guide/indexing.html#ix-indexer-is-deprecated\n",
      "  \"\"\"Entry point for launching an IPython kernel.\n"
     ]
    },
    {
     "data": {
      "text/plain": [
       "'doughnut'"
      ]
     },
     "execution_count": 96,
     "metadata": {},
     "output_type": "execute_result"
    }
   ],
   "source": [
    "android.ix[1.6] # Returns value using index name (Index name in this case is a float value)"
   ]
  },
  {
   "cell_type": "markdown",
   "metadata": {},
   "source": [
    "## 5. Some basic yet important methods of Pandas Series\n",
    "This methods are self explanatory. Lets flip the data (Mathematical operations don't work well with string values)"
   ]
  },
  {
   "cell_type": "code",
   "execution_count": 101,
   "metadata": {},
   "outputs": [
    {
     "data": {
      "text/plain": [
       "astro                1.0\n",
       "boxer                1.1\n",
       "cupcake              1.5\n",
       "doughnut             1.6\n",
       "éclair               2.0\n",
       "froyo                2.2\n",
       "gingerbread          2.3\n",
       "honeycomb            3.0\n",
       "icecream sandwich    4.0\n",
       "jellybean            4.1\n",
       "kitkat               4.4\n",
       "lollipop             5.0\n",
       "marshmallow          6.0\n",
       "nougat               7.0\n",
       "oreo                 8.0\n",
       "pie                  9.0\n",
       "Name: Android Versions, dtype: float64"
      ]
     },
     "execution_count": 101,
     "metadata": {},
     "output_type": "execute_result"
    }
   ],
   "source": [
    "android_version_names = ['astro', 'boxer', 'cupcake', 'doughnut', 'éclair', 'froyo',\n",
    "                         'gingerbread', 'honeycomb', 'icecream sandwich', 'jellybean',\n",
    "                         'kitkat', 'lollipop', 'marshmallow', 'nougat', 'oreo', 'pie']\n",
    "\n",
    "android_versions = [1.0, 1.1, 1.5, 1.6, 2.0, 2.2, 2.3, 3.0, 4.0, 4.1, 4.4, 5.0, 6.0, 7.0, 8.0, 9.0]\n",
    "\n",
    "android = pd.Series(data=android_versions, index=android_version_names, name='Android Versions') \n",
    "\n",
    "android"
   ]
  },
  {
   "cell_type": "code",
   "execution_count": 102,
   "metadata": {},
   "outputs": [
    {
     "data": {
      "text/plain": [
       "62.2"
      ]
     },
     "execution_count": 102,
     "metadata": {},
     "output_type": "execute_result"
    }
   ],
   "source": [
    "android.sum() # Add all values"
   ]
  },
  {
   "cell_type": "code",
   "execution_count": 103,
   "metadata": {},
   "outputs": [
    {
     "data": {
      "text/plain": [
       "87448831.30368003"
      ]
     },
     "execution_count": 103,
     "metadata": {},
     "output_type": "execute_result"
    }
   ],
   "source": [
    "android.prod() # Multiplies all values"
   ]
  },
  {
   "cell_type": "code",
   "execution_count": 106,
   "metadata": {},
   "outputs": [
    {
     "data": {
      "text/plain": [
       "3.8875"
      ]
     },
     "execution_count": 106,
     "metadata": {},
     "output_type": "execute_result"
    }
   ],
   "source": [
    "android.mean() # Calculates mean (average)"
   ]
  },
  {
   "cell_type": "code",
   "execution_count": 107,
   "metadata": {},
   "outputs": [
    {
     "data": {
      "text/plain": [
       "3.5"
      ]
     },
     "execution_count": 107,
     "metadata": {},
     "output_type": "execute_result"
    }
   ],
   "source": [
    "android.median() # Calculates median "
   ]
  },
  {
   "cell_type": "code",
   "execution_count": 108,
   "metadata": {},
   "outputs": [
    {
     "data": {
      "text/plain": [
       "0     1.0\n",
       "1     1.1\n",
       "2     1.5\n",
       "3     1.6\n",
       "4     2.0\n",
       "5     2.2\n",
       "6     2.3\n",
       "7     3.0\n",
       "8     4.0\n",
       "9     4.1\n",
       "10    4.4\n",
       "11    5.0\n",
       "12    6.0\n",
       "13    7.0\n",
       "14    8.0\n",
       "15    9.0\n",
       "dtype: float64"
      ]
     },
     "execution_count": 108,
     "metadata": {},
     "output_type": "execute_result"
    }
   ],
   "source": [
    "android.mode() # Finds mode (mostly occurred values)."
   ]
  },
  {
   "cell_type": "markdown",
   "metadata": {},
   "source": [
    "## 6. Extracting Series from Pandas dataframe\n",
    "Pandas dataframe is another main pandas datatype besides Series. Dataframes are 2-D object meaning multiple rows and multiple columns. If you need to display just few values from the dataframe/series object we can use **.head()** or **.tail()** method."
   ]
  },
  {
   "cell_type": "code",
   "execution_count": 114,
   "metadata": {},
   "outputs": [
    {
     "data": {
      "text/html": [
       "<div>\n",
       "<style scoped>\n",
       "    .dataframe tbody tr th:only-of-type {\n",
       "        vertical-align: middle;\n",
       "    }\n",
       "\n",
       "    .dataframe tbody tr th {\n",
       "        vertical-align: top;\n",
       "    }\n",
       "\n",
       "    .dataframe thead th {\n",
       "        text-align: right;\n",
       "    }\n",
       "</style>\n",
       "<table border=\"1\" class=\"dataframe\">\n",
       "  <thead>\n",
       "    <tr style=\"text-align: right;\">\n",
       "      <th></th>\n",
       "      <th>Pokemon</th>\n",
       "      <th>Type</th>\n",
       "    </tr>\n",
       "  </thead>\n",
       "  <tbody>\n",
       "    <tr>\n",
       "      <th>0</th>\n",
       "      <td>Bulbasaur</td>\n",
       "      <td>Grass</td>\n",
       "    </tr>\n",
       "    <tr>\n",
       "      <th>1</th>\n",
       "      <td>Ivysaur</td>\n",
       "      <td>Grass</td>\n",
       "    </tr>\n",
       "    <tr>\n",
       "      <th>2</th>\n",
       "      <td>Venusaur</td>\n",
       "      <td>Grass</td>\n",
       "    </tr>\n",
       "    <tr>\n",
       "      <th>3</th>\n",
       "      <td>Charmander</td>\n",
       "      <td>Fire</td>\n",
       "    </tr>\n",
       "    <tr>\n",
       "      <th>4</th>\n",
       "      <td>Charmeleon</td>\n",
       "      <td>Fire</td>\n",
       "    </tr>\n",
       "  </tbody>\n",
       "</table>\n",
       "</div>"
      ],
      "text/plain": [
       "      Pokemon   Type\n",
       "0   Bulbasaur  Grass\n",
       "1     Ivysaur  Grass\n",
       "2    Venusaur  Grass\n",
       "3  Charmander   Fire\n",
       "4  Charmeleon   Fire"
      ]
     },
     "execution_count": 114,
     "metadata": {},
     "output_type": "execute_result"
    }
   ],
   "source": [
    "pokemon = pd.read_csv(filepath_or_buffer='csv/pokemon.csv').head()\n",
    "\n",
    "pokemon"
   ]
  },
  {
   "cell_type": "markdown",
   "metadata": {},
   "source": [
    "The above object is still not a Series. Note that it has 2 columns. Series should have only single column. We can check this using **type()** method."
   ]
  },
  {
   "cell_type": "code",
   "execution_count": 115,
   "metadata": {},
   "outputs": [
    {
     "data": {
      "text/plain": [
       "pandas.core.frame.DataFrame"
      ]
     },
     "execution_count": 115,
     "metadata": {},
     "output_type": "execute_result"
    }
   ],
   "source": [
    "type(pokemon)"
   ]
  },
  {
   "cell_type": "markdown",
   "metadata": {},
   "source": [
    "We can extract Series (single column) from Dataframe using **squeeze** parameter. You should specify the column name (header) that needs to be extracted using **usecols** parameters."
   ]
  },
  {
   "cell_type": "code",
   "execution_count": 119,
   "metadata": {},
   "outputs": [
    {
     "data": {
      "text/plain": [
       "0       Bulbasaur\n",
       "1         Ivysaur\n",
       "2        Venusaur\n",
       "3      Charmander\n",
       "4      Charmeleon\n",
       "          ...    \n",
       "716       Yveltal\n",
       "717       Zygarde\n",
       "718       Diancie\n",
       "719         Hoopa\n",
       "720     Volcanion\n",
       "Name: Pokemon, Length: 721, dtype: object"
      ]
     },
     "execution_count": 119,
     "metadata": {},
     "output_type": "execute_result"
    }
   ],
   "source": [
    "pokemon = pd.read_csv(filepath_or_buffer='csv/pokemon.csv', usecols=['Pokemon'], squeeze=True)\n",
    "\n",
    "pokemon"
   ]
  },
  {
   "cell_type": "code",
   "execution_count": 120,
   "metadata": {},
   "outputs": [
    {
     "data": {
      "text/plain": [
       "pandas.core.series.Series"
      ]
     },
     "execution_count": 120,
     "metadata": {},
     "output_type": "execute_result"
    }
   ],
   "source": [
    "type(pokemon)"
   ]
  },
  {
   "cell_type": "markdown",
   "metadata": {},
   "source": [
    "If you need to extract few rows from the series, you can use **.head()** or **.tail()** method."
   ]
  },
  {
   "cell_type": "code",
   "execution_count": 121,
   "metadata": {},
   "outputs": [
    {
     "data": {
      "text/plain": [
       "0     Bulbasaur\n",
       "1       Ivysaur\n",
       "2      Venusaur\n",
       "3    Charmander\n",
       "4    Charmeleon\n",
       "Name: Pokemon, dtype: object"
      ]
     },
     "execution_count": 121,
     "metadata": {},
     "output_type": "execute_result"
    }
   ],
   "source": [
    "pokemon.head() # Returns 1st 5 elements from the series/dataframe"
   ]
  },
  {
   "cell_type": "code",
   "execution_count": 122,
   "metadata": {},
   "outputs": [
    {
     "data": {
      "text/plain": [
       "716      Yveltal\n",
       "717      Zygarde\n",
       "718      Diancie\n",
       "719        Hoopa\n",
       "720    Volcanion\n",
       "Name: Pokemon, dtype: object"
      ]
     },
     "execution_count": 122,
     "metadata": {},
     "output_type": "execute_result"
    }
   ],
   "source": [
    "pokemon.tail() # Returns last 5 elements from the series/dataframe"
   ]
  },
  {
   "cell_type": "markdown",
   "metadata": {},
   "source": [
    "You can specify the number of rows you want pandas to display. By default head and tail methods displays 5 values."
   ]
  },
  {
   "cell_type": "code",
   "execution_count": 123,
   "metadata": {},
   "outputs": [
    {
     "data": {
      "text/plain": [
       "0    Bulbasaur\n",
       "1      Ivysaur\n",
       "2     Venusaur\n",
       "Name: Pokemon, dtype: object"
      ]
     },
     "execution_count": 123,
     "metadata": {},
     "output_type": "execute_result"
    }
   ],
   "source": [
    "pokemon.head(3) # Returns 1st 3 elements from the series/dataframe"
   ]
  },
  {
   "cell_type": "code",
   "execution_count": 124,
   "metadata": {},
   "outputs": [
    {
     "data": {
      "text/plain": [
       "718      Diancie\n",
       "719        Hoopa\n",
       "720    Volcanion\n",
       "Name: Pokemon, dtype: object"
      ]
     },
     "execution_count": 124,
     "metadata": {},
     "output_type": "execute_result"
    }
   ],
   "source": [
    "pokemon.tail(3) # Returns last 3 elements from the series/dataframe"
   ]
  }
 ],
 "metadata": {
  "kernelspec": {
   "display_name": "Python 3",
   "language": "python",
   "name": "python3"
  },
  "language_info": {
   "codemirror_mode": {
    "name": "ipython",
    "version": 3
   },
   "file_extension": ".py",
   "mimetype": "text/x-python",
   "name": "python",
   "nbconvert_exporter": "python",
   "pygments_lexer": "ipython3",
   "version": "3.7.5"
  }
 },
 "nbformat": 4,
 "nbformat_minor": 2
}
